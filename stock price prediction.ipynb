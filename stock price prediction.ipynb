{
 "cells": [
  {
   "cell_type": "code",
   "execution_count": 39,
   "id": "d864bb63-f9d0-4283-bdb9-ecad6ea0dbd3",
   "metadata": {},
   "outputs": [],
   "source": [
    "\n",
    "import yfinance as yf\n",
    "import pandas as pd\n",
    "import numpy as np"
   ]
  },
  {
   "cell_type": "code",
   "execution_count": 41,
   "id": "ba6f354d-89f8-43f2-b143-3bb005a66570",
   "metadata": {},
   "outputs": [
    {
     "name": "stdin",
     "output_type": "stream",
     "text": [
      "Enter stock symbol (e.g., GAIL.NS):  GAIL.NS\n",
      "Enter start date (YYYY-MM-DD):  2015-01-01\n",
      "Enter end date (YYYY-MM-DD):  2020-01-01\n"
     ]
    }
   ],
   "source": [
    "ticker_symbol = input(\"Enter stock symbol (e.g., GAIL.NS): \")\n",
    "start_date = input(\"Enter start date (YYYY-MM-DD): \")\n",
    "end_date = input(\"Enter end date (YYYY-MM-DD): \")"
   ]
  },
  {
   "cell_type": "code",
   "execution_count": 42,
   "id": "87d405d9-43a5-4efd-9713-ca2e7009d534",
   "metadata": {},
   "outputs": [
    {
     "name": "stdout",
     "output_type": "stream",
     "text": [
      "[*********************100%%**********************]  1 of 1 completed\n"
     ]
    }
   ],
   "source": [
    "stock_data = yf.download(ticker_symbol, start=start_date, end=end_date)"
   ]
  },
  {
   "cell_type": "code",
   "execution_count": 43,
   "id": "0c39f710-6cb8-4937-a41e-bf0d8f1f69dd",
   "metadata": {},
   "outputs": [
    {
     "data": {
      "text/html": [
       "<div>\n",
       "<style scoped>\n",
       "    .dataframe tbody tr th:only-of-type {\n",
       "        vertical-align: middle;\n",
       "    }\n",
       "\n",
       "    .dataframe tbody tr th {\n",
       "        vertical-align: top;\n",
       "    }\n",
       "\n",
       "    .dataframe thead th {\n",
       "        text-align: right;\n",
       "    }\n",
       "</style>\n",
       "<table border=\"1\" class=\"dataframe\">\n",
       "  <thead>\n",
       "    <tr style=\"text-align: right;\">\n",
       "      <th></th>\n",
       "      <th>Open</th>\n",
       "      <th>High</th>\n",
       "      <th>Low</th>\n",
       "      <th>Close</th>\n",
       "      <th>Adj Close</th>\n",
       "      <th>Volume</th>\n",
       "    </tr>\n",
       "    <tr>\n",
       "      <th>Date</th>\n",
       "      <th></th>\n",
       "      <th></th>\n",
       "      <th></th>\n",
       "      <th></th>\n",
       "      <th></th>\n",
       "      <th></th>\n",
       "    </tr>\n",
       "  </thead>\n",
       "  <tbody>\n",
       "    <tr>\n",
       "      <th>2015-01-01</th>\n",
       "      <td>83.062538</td>\n",
       "      <td>83.465668</td>\n",
       "      <td>82.687538</td>\n",
       "      <td>82.987541</td>\n",
       "      <td>61.714222</td>\n",
       "      <td>4863981</td>\n",
       "    </tr>\n",
       "    <tr>\n",
       "      <th>2015-01-02</th>\n",
       "      <td>83.193794</td>\n",
       "      <td>84.037544</td>\n",
       "      <td>82.996918</td>\n",
       "      <td>83.362541</td>\n",
       "      <td>61.993095</td>\n",
       "      <td>3400766</td>\n",
       "    </tr>\n",
       "    <tr>\n",
       "      <th>2015-01-05</th>\n",
       "      <td>83.128166</td>\n",
       "      <td>84.534416</td>\n",
       "      <td>82.575043</td>\n",
       "      <td>83.625038</td>\n",
       "      <td>62.188301</td>\n",
       "      <td>4191283</td>\n",
       "    </tr>\n",
       "    <tr>\n",
       "      <th>2015-01-06</th>\n",
       "      <td>83.231293</td>\n",
       "      <td>83.231293</td>\n",
       "      <td>80.250038</td>\n",
       "      <td>80.981293</td>\n",
       "      <td>60.222256</td>\n",
       "      <td>16632727</td>\n",
       "    </tr>\n",
       "    <tr>\n",
       "      <th>2015-01-07</th>\n",
       "      <td>80.250038</td>\n",
       "      <td>81.131287</td>\n",
       "      <td>78.281288</td>\n",
       "      <td>78.918793</td>\n",
       "      <td>58.688477</td>\n",
       "      <td>9693360</td>\n",
       "    </tr>\n",
       "    <tr>\n",
       "      <th>...</th>\n",
       "      <td>...</td>\n",
       "      <td>...</td>\n",
       "      <td>...</td>\n",
       "      <td>...</td>\n",
       "      <td>...</td>\n",
       "      <td>...</td>\n",
       "    </tr>\n",
       "    <tr>\n",
       "      <th>2019-12-24</th>\n",
       "      <td>80.199997</td>\n",
       "      <td>80.800003</td>\n",
       "      <td>79.566666</td>\n",
       "      <td>79.833336</td>\n",
       "      <td>65.420357</td>\n",
       "      <td>7000588</td>\n",
       "    </tr>\n",
       "    <tr>\n",
       "      <th>2019-12-26</th>\n",
       "      <td>79.800003</td>\n",
       "      <td>80.233330</td>\n",
       "      <td>78.400002</td>\n",
       "      <td>78.733330</td>\n",
       "      <td>64.518944</td>\n",
       "      <td>12320313</td>\n",
       "    </tr>\n",
       "    <tr>\n",
       "      <th>2019-12-27</th>\n",
       "      <td>78.866669</td>\n",
       "      <td>79.466667</td>\n",
       "      <td>78.666664</td>\n",
       "      <td>79.033333</td>\n",
       "      <td>64.764778</td>\n",
       "      <td>7823829</td>\n",
       "    </tr>\n",
       "    <tr>\n",
       "      <th>2019-12-30</th>\n",
       "      <td>79.033333</td>\n",
       "      <td>80.300003</td>\n",
       "      <td>78.900002</td>\n",
       "      <td>79.266663</td>\n",
       "      <td>64.955994</td>\n",
       "      <td>8562607</td>\n",
       "    </tr>\n",
       "    <tr>\n",
       "      <th>2019-12-31</th>\n",
       "      <td>79.266663</td>\n",
       "      <td>81.533333</td>\n",
       "      <td>79.199997</td>\n",
       "      <td>80.699997</td>\n",
       "      <td>66.130547</td>\n",
       "      <td>20263336</td>\n",
       "    </tr>\n",
       "  </tbody>\n",
       "</table>\n",
       "<p>1229 rows × 6 columns</p>\n",
       "</div>"
      ],
      "text/plain": [
       "                 Open       High        Low      Close  Adj Close    Volume\n",
       "Date                                                                       \n",
       "2015-01-01  83.062538  83.465668  82.687538  82.987541  61.714222   4863981\n",
       "2015-01-02  83.193794  84.037544  82.996918  83.362541  61.993095   3400766\n",
       "2015-01-05  83.128166  84.534416  82.575043  83.625038  62.188301   4191283\n",
       "2015-01-06  83.231293  83.231293  80.250038  80.981293  60.222256  16632727\n",
       "2015-01-07  80.250038  81.131287  78.281288  78.918793  58.688477   9693360\n",
       "...               ...        ...        ...        ...        ...       ...\n",
       "2019-12-24  80.199997  80.800003  79.566666  79.833336  65.420357   7000588\n",
       "2019-12-26  79.800003  80.233330  78.400002  78.733330  64.518944  12320313\n",
       "2019-12-27  78.866669  79.466667  78.666664  79.033333  64.764778   7823829\n",
       "2019-12-30  79.033333  80.300003  78.900002  79.266663  64.955994   8562607\n",
       "2019-12-31  79.266663  81.533333  79.199997  80.699997  66.130547  20263336\n",
       "\n",
       "[1229 rows x 6 columns]"
      ]
     },
     "execution_count": 43,
     "metadata": {},
     "output_type": "execute_result"
    }
   ],
   "source": [
    "stock_data"
   ]
  },
  {
   "cell_type": "code",
   "execution_count": 44,
   "id": "b76b652b-99fd-48dd-8138-434281dc728c",
   "metadata": {},
   "outputs": [],
   "source": [
    "stock_data['Next_Day_Trend'] = np.where(stock_data['Close'].shift(-1) > stock_data['Close'], 1, 0)"
   ]
  },
  {
   "cell_type": "code",
   "execution_count": 45,
   "id": "bc23252c-636e-4d1c-9600-fbb66196f74b",
   "metadata": {},
   "outputs": [],
   "source": [
    "clean_stock_data = stock_data.fillna(method='ffill')"
   ]
  },
  {
   "cell_type": "code",
   "execution_count": 46,
   "id": "97160e00-b428-44bb-87cb-bcc764664fa3",
   "metadata": {},
   "outputs": [],
   "source": [
    "clean_stock_data['Short_MA'] = clean_stock_data['Close'].rolling(window=10).mean()\n",
    "clean_stock_data['Long_MA'] = clean_stock_data['Close'].rolling(window=50).mean()"
   ]
  },
  {
   "cell_type": "code",
   "execution_count": 47,
   "id": "282deaf3-0a38-489e-b3d6-b37b49ed5370",
   "metadata": {},
   "outputs": [],
   "source": [
    "delta = clean_stock_data['Close'].diff()\n",
    "gain = (delta.where(delta > 0, 0)).rolling(window=50).mean()\n",
    "loss = (-delta.where(delta < 0, 0)).rolling(window=50).mean()\n",
    "RS = gain / loss\n",
    "RSI = 100 - (100 / (1 + RS))\n",
    "clean_stock_data['RSI'] = RSI\n",
    "\n",
    "# Drop NaN values generated by rolling calculations\n",
    "clean_stock_data.dropna(inplace=True)"
   ]
  },
  {
   "cell_type": "code",
   "execution_count": 48,
   "id": "f99bad2d-3fd4-41cd-b1f0-9aca3660a48b",
   "metadata": {},
   "outputs": [],
   "source": [
    "from sklearn.linear_model import LinearRegression\n",
    "from sklearn.metrics import mean_squared_error, mean_absolute_error, r2_score\n",
    "from sklearn.preprocessing import MinMaxScaler\n",
    "from sklearn.svm import SVR\n",
    "from sklearn.ensemble import RandomForestRegressor\n",
    "from sklearn.ensemble import GradientBoostingRegressor\n",
    "from tensorflow.keras.models import Sequential\n",
    "from tensorflow.keras.layers import LSTM, Dense, Dropout\n",
    "from tensorflow.keras.metrics import BinaryAccuracy\n"
   ]
  },
  {
   "cell_type": "code",
   "execution_count": 49,
   "id": "59671e84-751e-4762-9f5c-7cf1d2e1a70f",
   "metadata": {},
   "outputs": [],
   "source": [
    "clean_stock_data['Next_Day_Trend'] = np.where(clean_stock_data['Close'].shift(-1) > clean_stock_data['Close'], 1, 0)"
   ]
  },
  {
   "cell_type": "code",
   "execution_count": 50,
   "id": "ae3893c4-b41c-4f0e-b62d-ad5122b2d49f",
   "metadata": {},
   "outputs": [],
   "source": [
    "features = ['Short_MA', 'Long_MA', 'RSI', 'Next_Day_Trend']\n",
    "target = 'Close'"
   ]
  },
  {
   "cell_type": "code",
   "execution_count": 53,
   "id": "e5fec596-e968-4f40-9db1-480698b40ea7",
   "metadata": {},
   "outputs": [],
   "source": [
    "train_size = int(0.8 * len(clean_stock_data))\n",
    "train_data = clean_stock_data[:train_size]\n",
    "test_data = clean_stock_data[train_size:]\n"
   ]
  },
  {
   "cell_type": "code",
   "execution_count": 54,
   "id": "5476b0cd-3e69-4498-b191-4d0097aa9219",
   "metadata": {},
   "outputs": [
    {
     "data": {
      "text/html": [
       "<style>#sk-container-id-6 {color: black;}#sk-container-id-6 pre{padding: 0;}#sk-container-id-6 div.sk-toggleable {background-color: white;}#sk-container-id-6 label.sk-toggleable__label {cursor: pointer;display: block;width: 100%;margin-bottom: 0;padding: 0.3em;box-sizing: border-box;text-align: center;}#sk-container-id-6 label.sk-toggleable__label-arrow:before {content: \"▸\";float: left;margin-right: 0.25em;color: #696969;}#sk-container-id-6 label.sk-toggleable__label-arrow:hover:before {color: black;}#sk-container-id-6 div.sk-estimator:hover label.sk-toggleable__label-arrow:before {color: black;}#sk-container-id-6 div.sk-toggleable__content {max-height: 0;max-width: 0;overflow: hidden;text-align: left;background-color: #f0f8ff;}#sk-container-id-6 div.sk-toggleable__content pre {margin: 0.2em;color: black;border-radius: 0.25em;background-color: #f0f8ff;}#sk-container-id-6 input.sk-toggleable__control:checked~div.sk-toggleable__content {max-height: 200px;max-width: 100%;overflow: auto;}#sk-container-id-6 input.sk-toggleable__control:checked~label.sk-toggleable__label-arrow:before {content: \"▾\";}#sk-container-id-6 div.sk-estimator input.sk-toggleable__control:checked~label.sk-toggleable__label {background-color: #d4ebff;}#sk-container-id-6 div.sk-label input.sk-toggleable__control:checked~label.sk-toggleable__label {background-color: #d4ebff;}#sk-container-id-6 input.sk-hidden--visually {border: 0;clip: rect(1px 1px 1px 1px);clip: rect(1px, 1px, 1px, 1px);height: 1px;margin: -1px;overflow: hidden;padding: 0;position: absolute;width: 1px;}#sk-container-id-6 div.sk-estimator {font-family: monospace;background-color: #f0f8ff;border: 1px dotted black;border-radius: 0.25em;box-sizing: border-box;margin-bottom: 0.5em;}#sk-container-id-6 div.sk-estimator:hover {background-color: #d4ebff;}#sk-container-id-6 div.sk-parallel-item::after {content: \"\";width: 100%;border-bottom: 1px solid gray;flex-grow: 1;}#sk-container-id-6 div.sk-label:hover label.sk-toggleable__label {background-color: #d4ebff;}#sk-container-id-6 div.sk-serial::before {content: \"\";position: absolute;border-left: 1px solid gray;box-sizing: border-box;top: 0;bottom: 0;left: 50%;z-index: 0;}#sk-container-id-6 div.sk-serial {display: flex;flex-direction: column;align-items: center;background-color: white;padding-right: 0.2em;padding-left: 0.2em;position: relative;}#sk-container-id-6 div.sk-item {position: relative;z-index: 1;}#sk-container-id-6 div.sk-parallel {display: flex;align-items: stretch;justify-content: center;background-color: white;position: relative;}#sk-container-id-6 div.sk-item::before, #sk-container-id-6 div.sk-parallel-item::before {content: \"\";position: absolute;border-left: 1px solid gray;box-sizing: border-box;top: 0;bottom: 0;left: 50%;z-index: -1;}#sk-container-id-6 div.sk-parallel-item {display: flex;flex-direction: column;z-index: 1;position: relative;background-color: white;}#sk-container-id-6 div.sk-parallel-item:first-child::after {align-self: flex-end;width: 50%;}#sk-container-id-6 div.sk-parallel-item:last-child::after {align-self: flex-start;width: 50%;}#sk-container-id-6 div.sk-parallel-item:only-child::after {width: 0;}#sk-container-id-6 div.sk-dashed-wrapped {border: 1px dashed gray;margin: 0 0.4em 0.5em 0.4em;box-sizing: border-box;padding-bottom: 0.4em;background-color: white;}#sk-container-id-6 div.sk-label label {font-family: monospace;font-weight: bold;display: inline-block;line-height: 1.2em;}#sk-container-id-6 div.sk-label-container {text-align: center;}#sk-container-id-6 div.sk-container {/* jupyter's `normalize.less` sets `[hidden] { display: none; }` but bootstrap.min.css set `[hidden] { display: none !important; }` so we also need the `!important` here to be able to override the default hidden behavior on the sphinx rendered scikit-learn.org. See: https://github.com/scikit-learn/scikit-learn/issues/21755 */display: inline-block !important;position: relative;}#sk-container-id-6 div.sk-text-repr-fallback {display: none;}</style><div id=\"sk-container-id-6\" class=\"sk-top-container\"><div class=\"sk-text-repr-fallback\"><pre>LinearRegression()</pre><b>In a Jupyter environment, please rerun this cell to show the HTML representation or trust the notebook. <br />On GitHub, the HTML representation is unable to render, please try loading this page with nbviewer.org.</b></div><div class=\"sk-container\" hidden><div class=\"sk-item\"><div class=\"sk-estimator sk-toggleable\"><input class=\"sk-toggleable__control sk-hidden--visually\" id=\"sk-estimator-id-6\" type=\"checkbox\" checked><label for=\"sk-estimator-id-6\" class=\"sk-toggleable__label sk-toggleable__label-arrow\">LinearRegression</label><div class=\"sk-toggleable__content\"><pre>LinearRegression()</pre></div></div></div></div></div>"
      ],
      "text/plain": [
       "LinearRegression()"
      ]
     },
     "execution_count": 54,
     "metadata": {},
     "output_type": "execute_result"
    }
   ],
   "source": [
    "\n",
    "# Training using Linear Regression as a baseline model\n",
    "model_lr = LinearRegression()\n",
    "model_lr.fit(train_data[features], train_data[target])\n",
    "\n"
   ]
  },
  {
   "cell_type": "code",
   "execution_count": 55,
   "id": "bcb19881-ae1e-42d1-93ed-cf8d2564ed80",
   "metadata": {},
   "outputs": [
    {
     "data": {
      "text/html": [
       "<style>#sk-container-id-7 {color: black;}#sk-container-id-7 pre{padding: 0;}#sk-container-id-7 div.sk-toggleable {background-color: white;}#sk-container-id-7 label.sk-toggleable__label {cursor: pointer;display: block;width: 100%;margin-bottom: 0;padding: 0.3em;box-sizing: border-box;text-align: center;}#sk-container-id-7 label.sk-toggleable__label-arrow:before {content: \"▸\";float: left;margin-right: 0.25em;color: #696969;}#sk-container-id-7 label.sk-toggleable__label-arrow:hover:before {color: black;}#sk-container-id-7 div.sk-estimator:hover label.sk-toggleable__label-arrow:before {color: black;}#sk-container-id-7 div.sk-toggleable__content {max-height: 0;max-width: 0;overflow: hidden;text-align: left;background-color: #f0f8ff;}#sk-container-id-7 div.sk-toggleable__content pre {margin: 0.2em;color: black;border-radius: 0.25em;background-color: #f0f8ff;}#sk-container-id-7 input.sk-toggleable__control:checked~div.sk-toggleable__content {max-height: 200px;max-width: 100%;overflow: auto;}#sk-container-id-7 input.sk-toggleable__control:checked~label.sk-toggleable__label-arrow:before {content: \"▾\";}#sk-container-id-7 div.sk-estimator input.sk-toggleable__control:checked~label.sk-toggleable__label {background-color: #d4ebff;}#sk-container-id-7 div.sk-label input.sk-toggleable__control:checked~label.sk-toggleable__label {background-color: #d4ebff;}#sk-container-id-7 input.sk-hidden--visually {border: 0;clip: rect(1px 1px 1px 1px);clip: rect(1px, 1px, 1px, 1px);height: 1px;margin: -1px;overflow: hidden;padding: 0;position: absolute;width: 1px;}#sk-container-id-7 div.sk-estimator {font-family: monospace;background-color: #f0f8ff;border: 1px dotted black;border-radius: 0.25em;box-sizing: border-box;margin-bottom: 0.5em;}#sk-container-id-7 div.sk-estimator:hover {background-color: #d4ebff;}#sk-container-id-7 div.sk-parallel-item::after {content: \"\";width: 100%;border-bottom: 1px solid gray;flex-grow: 1;}#sk-container-id-7 div.sk-label:hover label.sk-toggleable__label {background-color: #d4ebff;}#sk-container-id-7 div.sk-serial::before {content: \"\";position: absolute;border-left: 1px solid gray;box-sizing: border-box;top: 0;bottom: 0;left: 50%;z-index: 0;}#sk-container-id-7 div.sk-serial {display: flex;flex-direction: column;align-items: center;background-color: white;padding-right: 0.2em;padding-left: 0.2em;position: relative;}#sk-container-id-7 div.sk-item {position: relative;z-index: 1;}#sk-container-id-7 div.sk-parallel {display: flex;align-items: stretch;justify-content: center;background-color: white;position: relative;}#sk-container-id-7 div.sk-item::before, #sk-container-id-7 div.sk-parallel-item::before {content: \"\";position: absolute;border-left: 1px solid gray;box-sizing: border-box;top: 0;bottom: 0;left: 50%;z-index: -1;}#sk-container-id-7 div.sk-parallel-item {display: flex;flex-direction: column;z-index: 1;position: relative;background-color: white;}#sk-container-id-7 div.sk-parallel-item:first-child::after {align-self: flex-end;width: 50%;}#sk-container-id-7 div.sk-parallel-item:last-child::after {align-self: flex-start;width: 50%;}#sk-container-id-7 div.sk-parallel-item:only-child::after {width: 0;}#sk-container-id-7 div.sk-dashed-wrapped {border: 1px dashed gray;margin: 0 0.4em 0.5em 0.4em;box-sizing: border-box;padding-bottom: 0.4em;background-color: white;}#sk-container-id-7 div.sk-label label {font-family: monospace;font-weight: bold;display: inline-block;line-height: 1.2em;}#sk-container-id-7 div.sk-label-container {text-align: center;}#sk-container-id-7 div.sk-container {/* jupyter's `normalize.less` sets `[hidden] { display: none; }` but bootstrap.min.css set `[hidden] { display: none !important; }` so we also need the `!important` here to be able to override the default hidden behavior on the sphinx rendered scikit-learn.org. See: https://github.com/scikit-learn/scikit-learn/issues/21755 */display: inline-block !important;position: relative;}#sk-container-id-7 div.sk-text-repr-fallback {display: none;}</style><div id=\"sk-container-id-7\" class=\"sk-top-container\"><div class=\"sk-text-repr-fallback\"><pre>SVR(kernel=&#x27;linear&#x27;)</pre><b>In a Jupyter environment, please rerun this cell to show the HTML representation or trust the notebook. <br />On GitHub, the HTML representation is unable to render, please try loading this page with nbviewer.org.</b></div><div class=\"sk-container\" hidden><div class=\"sk-item\"><div class=\"sk-estimator sk-toggleable\"><input class=\"sk-toggleable__control sk-hidden--visually\" id=\"sk-estimator-id-7\" type=\"checkbox\" checked><label for=\"sk-estimator-id-7\" class=\"sk-toggleable__label sk-toggleable__label-arrow\">SVR</label><div class=\"sk-toggleable__content\"><pre>SVR(kernel=&#x27;linear&#x27;)</pre></div></div></div></div></div>"
      ],
      "text/plain": [
       "SVR(kernel='linear')"
      ]
     },
     "execution_count": 55,
     "metadata": {},
     "output_type": "execute_result"
    }
   ],
   "source": [
    "\n",
    "# Training using Support Vector Machine (SVR)\n",
    "model_svr = SVR(kernel='linear')\n",
    "model_svr.fit(train_data[features], train_data[target])"
   ]
  },
  {
   "cell_type": "code",
   "execution_count": 56,
   "id": "b59b2f34-944c-4883-9f77-8f1fadce34d4",
   "metadata": {},
   "outputs": [
    {
     "data": {
      "text/html": [
       "<style>#sk-container-id-8 {color: black;}#sk-container-id-8 pre{padding: 0;}#sk-container-id-8 div.sk-toggleable {background-color: white;}#sk-container-id-8 label.sk-toggleable__label {cursor: pointer;display: block;width: 100%;margin-bottom: 0;padding: 0.3em;box-sizing: border-box;text-align: center;}#sk-container-id-8 label.sk-toggleable__label-arrow:before {content: \"▸\";float: left;margin-right: 0.25em;color: #696969;}#sk-container-id-8 label.sk-toggleable__label-arrow:hover:before {color: black;}#sk-container-id-8 div.sk-estimator:hover label.sk-toggleable__label-arrow:before {color: black;}#sk-container-id-8 div.sk-toggleable__content {max-height: 0;max-width: 0;overflow: hidden;text-align: left;background-color: #f0f8ff;}#sk-container-id-8 div.sk-toggleable__content pre {margin: 0.2em;color: black;border-radius: 0.25em;background-color: #f0f8ff;}#sk-container-id-8 input.sk-toggleable__control:checked~div.sk-toggleable__content {max-height: 200px;max-width: 100%;overflow: auto;}#sk-container-id-8 input.sk-toggleable__control:checked~label.sk-toggleable__label-arrow:before {content: \"▾\";}#sk-container-id-8 div.sk-estimator input.sk-toggleable__control:checked~label.sk-toggleable__label {background-color: #d4ebff;}#sk-container-id-8 div.sk-label input.sk-toggleable__control:checked~label.sk-toggleable__label {background-color: #d4ebff;}#sk-container-id-8 input.sk-hidden--visually {border: 0;clip: rect(1px 1px 1px 1px);clip: rect(1px, 1px, 1px, 1px);height: 1px;margin: -1px;overflow: hidden;padding: 0;position: absolute;width: 1px;}#sk-container-id-8 div.sk-estimator {font-family: monospace;background-color: #f0f8ff;border: 1px dotted black;border-radius: 0.25em;box-sizing: border-box;margin-bottom: 0.5em;}#sk-container-id-8 div.sk-estimator:hover {background-color: #d4ebff;}#sk-container-id-8 div.sk-parallel-item::after {content: \"\";width: 100%;border-bottom: 1px solid gray;flex-grow: 1;}#sk-container-id-8 div.sk-label:hover label.sk-toggleable__label {background-color: #d4ebff;}#sk-container-id-8 div.sk-serial::before {content: \"\";position: absolute;border-left: 1px solid gray;box-sizing: border-box;top: 0;bottom: 0;left: 50%;z-index: 0;}#sk-container-id-8 div.sk-serial {display: flex;flex-direction: column;align-items: center;background-color: white;padding-right: 0.2em;padding-left: 0.2em;position: relative;}#sk-container-id-8 div.sk-item {position: relative;z-index: 1;}#sk-container-id-8 div.sk-parallel {display: flex;align-items: stretch;justify-content: center;background-color: white;position: relative;}#sk-container-id-8 div.sk-item::before, #sk-container-id-8 div.sk-parallel-item::before {content: \"\";position: absolute;border-left: 1px solid gray;box-sizing: border-box;top: 0;bottom: 0;left: 50%;z-index: -1;}#sk-container-id-8 div.sk-parallel-item {display: flex;flex-direction: column;z-index: 1;position: relative;background-color: white;}#sk-container-id-8 div.sk-parallel-item:first-child::after {align-self: flex-end;width: 50%;}#sk-container-id-8 div.sk-parallel-item:last-child::after {align-self: flex-start;width: 50%;}#sk-container-id-8 div.sk-parallel-item:only-child::after {width: 0;}#sk-container-id-8 div.sk-dashed-wrapped {border: 1px dashed gray;margin: 0 0.4em 0.5em 0.4em;box-sizing: border-box;padding-bottom: 0.4em;background-color: white;}#sk-container-id-8 div.sk-label label {font-family: monospace;font-weight: bold;display: inline-block;line-height: 1.2em;}#sk-container-id-8 div.sk-label-container {text-align: center;}#sk-container-id-8 div.sk-container {/* jupyter's `normalize.less` sets `[hidden] { display: none; }` but bootstrap.min.css set `[hidden] { display: none !important; }` so we also need the `!important` here to be able to override the default hidden behavior on the sphinx rendered scikit-learn.org. See: https://github.com/scikit-learn/scikit-learn/issues/21755 */display: inline-block !important;position: relative;}#sk-container-id-8 div.sk-text-repr-fallback {display: none;}</style><div id=\"sk-container-id-8\" class=\"sk-top-container\"><div class=\"sk-text-repr-fallback\"><pre>RandomForestRegressor(random_state=42)</pre><b>In a Jupyter environment, please rerun this cell to show the HTML representation or trust the notebook. <br />On GitHub, the HTML representation is unable to render, please try loading this page with nbviewer.org.</b></div><div class=\"sk-container\" hidden><div class=\"sk-item\"><div class=\"sk-estimator sk-toggleable\"><input class=\"sk-toggleable__control sk-hidden--visually\" id=\"sk-estimator-id-8\" type=\"checkbox\" checked><label for=\"sk-estimator-id-8\" class=\"sk-toggleable__label sk-toggleable__label-arrow\">RandomForestRegressor</label><div class=\"sk-toggleable__content\"><pre>RandomForestRegressor(random_state=42)</pre></div></div></div></div></div>"
      ],
      "text/plain": [
       "RandomForestRegressor(random_state=42)"
      ]
     },
     "execution_count": 56,
     "metadata": {},
     "output_type": "execute_result"
    }
   ],
   "source": [
    "# Training using Random Forest\n",
    "model_rf = RandomForestRegressor(n_estimators=100, random_state=42)\n",
    "model_rf.fit(train_data[features], train_data[target])"
   ]
  },
  {
   "cell_type": "code",
   "execution_count": 57,
   "id": "50fe0523-8f54-41b1-bd3a-ceddabe6eb59",
   "metadata": {},
   "outputs": [
    {
     "data": {
      "text/html": [
       "<style>#sk-container-id-9 {color: black;}#sk-container-id-9 pre{padding: 0;}#sk-container-id-9 div.sk-toggleable {background-color: white;}#sk-container-id-9 label.sk-toggleable__label {cursor: pointer;display: block;width: 100%;margin-bottom: 0;padding: 0.3em;box-sizing: border-box;text-align: center;}#sk-container-id-9 label.sk-toggleable__label-arrow:before {content: \"▸\";float: left;margin-right: 0.25em;color: #696969;}#sk-container-id-9 label.sk-toggleable__label-arrow:hover:before {color: black;}#sk-container-id-9 div.sk-estimator:hover label.sk-toggleable__label-arrow:before {color: black;}#sk-container-id-9 div.sk-toggleable__content {max-height: 0;max-width: 0;overflow: hidden;text-align: left;background-color: #f0f8ff;}#sk-container-id-9 div.sk-toggleable__content pre {margin: 0.2em;color: black;border-radius: 0.25em;background-color: #f0f8ff;}#sk-container-id-9 input.sk-toggleable__control:checked~div.sk-toggleable__content {max-height: 200px;max-width: 100%;overflow: auto;}#sk-container-id-9 input.sk-toggleable__control:checked~label.sk-toggleable__label-arrow:before {content: \"▾\";}#sk-container-id-9 div.sk-estimator input.sk-toggleable__control:checked~label.sk-toggleable__label {background-color: #d4ebff;}#sk-container-id-9 div.sk-label input.sk-toggleable__control:checked~label.sk-toggleable__label {background-color: #d4ebff;}#sk-container-id-9 input.sk-hidden--visually {border: 0;clip: rect(1px 1px 1px 1px);clip: rect(1px, 1px, 1px, 1px);height: 1px;margin: -1px;overflow: hidden;padding: 0;position: absolute;width: 1px;}#sk-container-id-9 div.sk-estimator {font-family: monospace;background-color: #f0f8ff;border: 1px dotted black;border-radius: 0.25em;box-sizing: border-box;margin-bottom: 0.5em;}#sk-container-id-9 div.sk-estimator:hover {background-color: #d4ebff;}#sk-container-id-9 div.sk-parallel-item::after {content: \"\";width: 100%;border-bottom: 1px solid gray;flex-grow: 1;}#sk-container-id-9 div.sk-label:hover label.sk-toggleable__label {background-color: #d4ebff;}#sk-container-id-9 div.sk-serial::before {content: \"\";position: absolute;border-left: 1px solid gray;box-sizing: border-box;top: 0;bottom: 0;left: 50%;z-index: 0;}#sk-container-id-9 div.sk-serial {display: flex;flex-direction: column;align-items: center;background-color: white;padding-right: 0.2em;padding-left: 0.2em;position: relative;}#sk-container-id-9 div.sk-item {position: relative;z-index: 1;}#sk-container-id-9 div.sk-parallel {display: flex;align-items: stretch;justify-content: center;background-color: white;position: relative;}#sk-container-id-9 div.sk-item::before, #sk-container-id-9 div.sk-parallel-item::before {content: \"\";position: absolute;border-left: 1px solid gray;box-sizing: border-box;top: 0;bottom: 0;left: 50%;z-index: -1;}#sk-container-id-9 div.sk-parallel-item {display: flex;flex-direction: column;z-index: 1;position: relative;background-color: white;}#sk-container-id-9 div.sk-parallel-item:first-child::after {align-self: flex-end;width: 50%;}#sk-container-id-9 div.sk-parallel-item:last-child::after {align-self: flex-start;width: 50%;}#sk-container-id-9 div.sk-parallel-item:only-child::after {width: 0;}#sk-container-id-9 div.sk-dashed-wrapped {border: 1px dashed gray;margin: 0 0.4em 0.5em 0.4em;box-sizing: border-box;padding-bottom: 0.4em;background-color: white;}#sk-container-id-9 div.sk-label label {font-family: monospace;font-weight: bold;display: inline-block;line-height: 1.2em;}#sk-container-id-9 div.sk-label-container {text-align: center;}#sk-container-id-9 div.sk-container {/* jupyter's `normalize.less` sets `[hidden] { display: none; }` but bootstrap.min.css set `[hidden] { display: none !important; }` so we also need the `!important` here to be able to override the default hidden behavior on the sphinx rendered scikit-learn.org. See: https://github.com/scikit-learn/scikit-learn/issues/21755 */display: inline-block !important;position: relative;}#sk-container-id-9 div.sk-text-repr-fallback {display: none;}</style><div id=\"sk-container-id-9\" class=\"sk-top-container\"><div class=\"sk-text-repr-fallback\"><pre>GradientBoostingRegressor(random_state=42)</pre><b>In a Jupyter environment, please rerun this cell to show the HTML representation or trust the notebook. <br />On GitHub, the HTML representation is unable to render, please try loading this page with nbviewer.org.</b></div><div class=\"sk-container\" hidden><div class=\"sk-item\"><div class=\"sk-estimator sk-toggleable\"><input class=\"sk-toggleable__control sk-hidden--visually\" id=\"sk-estimator-id-9\" type=\"checkbox\" checked><label for=\"sk-estimator-id-9\" class=\"sk-toggleable__label sk-toggleable__label-arrow\">GradientBoostingRegressor</label><div class=\"sk-toggleable__content\"><pre>GradientBoostingRegressor(random_state=42)</pre></div></div></div></div></div>"
      ],
      "text/plain": [
       "GradientBoostingRegressor(random_state=42)"
      ]
     },
     "execution_count": 57,
     "metadata": {},
     "output_type": "execute_result"
    }
   ],
   "source": [
    "# Training using Gradient Boosting\n",
    "model_gb = GradientBoostingRegressor(n_estimators=100, random_state=42)\n",
    "model_gb.fit(train_data[features], train_data[target])\n"
   ]
  },
  {
   "cell_type": "code",
   "execution_count": 58,
   "id": "eba0b2ff-7257-4b5b-9156-75a001dc0cad",
   "metadata": {},
   "outputs": [
    {
     "name": "stdout",
     "output_type": "stream",
     "text": [
      "Epoch 1/10\n",
      "36/36 [==============================] - 20s 154ms/step - loss: 0.0336\n",
      "Epoch 2/10\n",
      "36/36 [==============================] - 5s 143ms/step - loss: 0.0036\n",
      "Epoch 3/10\n",
      "36/36 [==============================] - 5s 144ms/step - loss: 0.0026\n",
      "Epoch 4/10\n",
      "36/36 [==============================] - 5s 140ms/step - loss: 0.0021\n",
      "Epoch 5/10\n",
      "36/36 [==============================] - 5s 151ms/step - loss: 0.0018\n",
      "Epoch 6/10\n",
      "36/36 [==============================] - 5s 139ms/step - loss: 0.0016\n",
      "Epoch 7/10\n",
      "36/36 [==============================] - 5s 148ms/step - loss: 0.0016\n",
      "Epoch 8/10\n",
      "36/36 [==============================] - 5s 144ms/step - loss: 0.0016\n",
      "Epoch 9/10\n",
      "36/36 [==============================] - 5s 136ms/step - loss: 0.0013\n",
      "Epoch 10/10\n",
      "36/36 [==============================] - 5s 137ms/step - loss: 0.0013\n"
     ]
    },
    {
     "data": {
      "text/plain": [
       "<keras.src.callbacks.History at 0xf0ceadc4c0>"
      ]
     },
     "execution_count": 58,
     "metadata": {},
     "output_type": "execute_result"
    }
   ],
   "source": [
    "# LSTM model\n",
    "scaler = MinMaxScaler()\n",
    "scaled_data = scaler.fit_transform(clean_stock_data[features + [target]])\n",
    "X = []\n",
    "y = []\n",
    "for i in range(50, len(scaled_data)):\n",
    "    X.append(scaled_data[i-50:i, :-1])\n",
    "    y.append(scaled_data[i, -1])\n",
    "\n",
    "X, y = np.array(X), np.array(y)\n",
    "X = np.reshape(X, (X.shape[0], X.shape[1], len(features)))\n",
    "\n",
    "model_lstm = Sequential()\n",
    "model_lstm.add(LSTM(units=50, return_sequences=True, input_shape=(X.shape[1], X.shape[2])))\n",
    "model_lstm.add(LSTM(units=50, return_sequences=False))\n",
    "model_lstm.add(Dense(units=1))\n",
    "model_lstm.compile(optimizer='adam', loss='mean_squared_error')\n",
    "model_lstm.fit(X, y, epochs=10, batch_size=32)"
   ]
  },
  {
   "cell_type": "code",
   "execution_count": 59,
   "id": "1136fa26-41a1-4d89-bd47-cde900f5c192",
   "metadata": {},
   "outputs": [],
   "source": [
    "# Evaluation\n",
    "def evaluate_model(model, test_features, test_target):\n",
    "    predictions = model.predict(test_features)\n",
    "    mse = mean_squared_error(test_target, predictions)\n",
    "    rmse = np.sqrt(mse)\n",
    "    mae = mean_absolute_error(test_target, predictions)\n",
    "    r2 = r2_score(test_target, predictions)\n",
    "    return mse, rmse, mae, r2\n"
   ]
  },
  {
   "cell_type": "code",
   "execution_count": 60,
   "id": "c6f6ec25-6dd4-47b0-b131-a1175d7c435d",
   "metadata": {},
   "outputs": [
    {
     "name": "stdout",
     "output_type": "stream",
     "text": [
      "Linear Regression:\n",
      "MSE: 8.31992307828202, RMSE: 2.884427686436604, MAE: 2.307014419031996, R-squared: 0.9577966825279948\n"
     ]
    }
   ],
   "source": [
    "# Evaluate Linear Regression model\n",
    "mse_lr, rmse_lr, mae_lr, r2_lr = evaluate_model(model_lr, test_data[features], test_data[target])\n",
    "print(\"Linear Regression:\")\n",
    "print(f\"MSE: {mse_lr}, RMSE: {rmse_lr}, MAE: {mae_lr}, R-squared: {r2_lr}\")"
   ]
  },
  {
   "cell_type": "code",
   "execution_count": 30,
   "id": "308cad5f-8b59-4df0-87b8-685d7f640a84",
   "metadata": {},
   "outputs": [
    {
     "name": "stdout",
     "output_type": "stream",
     "text": [
      "Support Vector Machine (SVR):\n",
      "MSE: 8.936578157315399, RMSE: 2.9894110050836766, MAE: 2.3557594534533206, R-squared: 0.9632027883681649\n"
     ]
    }
   ],
   "source": [
    "# Evaluate SVR model\n",
    "mse_svr, rmse_svr, mae_svr, r2_svr = evaluate_model(model_svr, test_data[features], test_data[target])\n",
    "print(\"Support Vector Machine (SVR):\")\n",
    "print(f\"MSE: {mse_svr}, RMSE: {rmse_svr}, MAE: {mae_svr}, R-squared: {r2_svr}\")"
   ]
  },
  {
   "cell_type": "code",
   "execution_count": 31,
   "id": "c1742d18-7e22-4624-b8e7-d9d9dbbd4e9f",
   "metadata": {},
   "outputs": [
    {
     "name": "stdout",
     "output_type": "stream",
     "text": [
      "Random Forest:\n",
      "MSE: 11.715181919455622, RMSE: 3.4227447932113813, MAE: 2.6687837893622266, R-squared: 0.9517616227590676\n"
     ]
    }
   ],
   "source": [
    "\n",
    "# Evaluate Random Forest model\n",
    "mse_rf, rmse_rf, mae_rf, r2_rf = evaluate_model(model_rf, test_data[features], test_data[target])\n",
    "print(\"Random Forest:\")\n",
    "print(f\"MSE: {mse_rf}, RMSE: {rmse_rf}, MAE: {mae_rf}, R-squared: {r2_rf}\")"
   ]
  },
  {
   "cell_type": "code",
   "execution_count": 32,
   "id": "b68db147-6425-4732-841e-9515fd3e01c6",
   "metadata": {},
   "outputs": [
    {
     "name": "stdout",
     "output_type": "stream",
     "text": [
      "Gradient Boosting:\n",
      "MSE: 9.519333645087622, RMSE: 3.0853417387848014, MAE: 2.392933862255995, R-squared: 0.9608032371489307\n"
     ]
    }
   ],
   "source": [
    "# Evaluate Gradient Boosting model\n",
    "mse_gb, rmse_gb, mae_gb, r2_gb = evaluate_model(model_gb, test_data[features], test_data[target])\n",
    "print(\"Gradient Boosting:\")\n",
    "print(f\"MSE: {mse_gb}, RMSE: {rmse_gb}, MAE: {mae_gb}, R-squared: {r2_gb}\")"
   ]
  },
  {
   "cell_type": "code",
   "execution_count": 33,
   "id": "75e55aaa-3ae0-474d-9710-e9ac673b9ee1",
   "metadata": {},
   "outputs": [
    {
     "name": "stdout",
     "output_type": "stream",
     "text": [
      "11/11 [==============================] - 4s 58ms/step\n",
      "LSTM:\n",
      "MSE: 7.978692864096618\n"
     ]
    }
   ],
   "source": [
    "# Evaluate LSTM model\n",
    "test_data_lstm = scaled_data[train_size-50:, :-1]\n",
    "X_test_lstm = []\n",
    "for i in range(50, len(test_data_lstm)):\n",
    "    X_test_lstm.append(test_data_lstm[i-50:i, :])\n",
    "\n",
    "X_test_lstm = np.array(X_test_lstm)\n",
    "X_test_lstm = np.reshape(X_test_lstm, (X_test_lstm.shape[0], X_test_lstm.shape[1], len(features)))\n",
    "\n",
    "predictions_lstm = model_lstm.predict(X_test_lstm)\n",
    "predictions_lstm = scaler.inverse_transform(np.concatenate((test_data_lstm[50:, :], predictions_lstm), axis=1))[:, -1]\n",
    "\n",
    "mse_lstm = mean_squared_error(clean_stock_data['Close'].values[train_size:], predictions_lstm)\n",
    "print(\"LSTM:\")\n",
    "print(f\"MSE: {mse_lstm}\")"
   ]
  },
  {
   "cell_type": "code",
   "execution_count": 34,
   "id": "c957dba7-dd25-487f-a2c1-f29b13e55150",
   "metadata": {},
   "outputs": [],
   "source": [
    "model_mse = {\n",
    "    'Linear Regression': mse_lr,\n",
    "    'SVR': mse_svr,\n",
    "    'Random Forest': mse_rf,\n",
    "    'Gradient Boosting': mse_gb,\n",
    "    'LSTM': mse_lstm\n",
    "}\n"
   ]
  },
  {
   "cell_type": "code",
   "execution_count": 35,
   "id": "e6b62d3f-7a9c-4b27-b73e-fee324a053bc",
   "metadata": {},
   "outputs": [],
   "source": [
    "# Find the model with the lowest MSE\n",
    "best_model = min(model_mse, key=model_mse.get)\n",
    "lowest_mse = model_mse[best_model]"
   ]
  },
  {
   "cell_type": "code",
   "execution_count": 36,
   "id": "8d18ad32-86cb-4f7c-a516-cc3a473dc306",
   "metadata": {},
   "outputs": [
    {
     "name": "stdout",
     "output_type": "stream",
     "text": [
      "Linear Regression MSE: 8.812145561516894\n",
      "SVR MSE: 8.936578157315399\n",
      "Random Forest MSE: 11.715181919455622\n",
      "Gradient Boosting MSE: 9.519333645087622\n",
      "LSTM MSE: 7.978692864096618\n",
      "\n",
      "The best model with the lowest MSE is LSTM with MSE: 7.978692864096618\n"
     ]
    }
   ],
   "source": [
    "# Print MSE values for all models\n",
    "for model, mse in model_mse.items():\n",
    "    print(f\"{model} MSE: {mse}\")\n",
    "\n",
    "# Print the best model with the lowest MSE\n",
    "print(f\"\\nThe best model with the lowest MSE is {best_model} with MSE: {lowest_mse}\")"
   ]
  },
  {
   "cell_type": "code",
   "execution_count": 37,
   "id": "a4d5668d-506a-4487-9ec9-2678e7c962b9",
   "metadata": {},
   "outputs": [
    {
     "name": "stdout",
     "output_type": "stream",
     "text": [
      "Predicted future open prices:\n",
      "[86.33302167]\n"
     ]
    }
   ],
   "source": [
    "# Assuming LSTM model is the best-performing model\n",
    "\n",
    "future_days = 1  # Replace with the desired number of future days\n",
    "\n",
    "last_short_ma = clean_stock_data['Short_MA'].iloc[-1]\n",
    "last_long_ma = clean_stock_data['Long_MA'].iloc[-1]\n",
    "last_rsi = clean_stock_data['RSI'].iloc[-1]\n",
    "last_trend = clean_stock_data['Next_Day_Trend'].iloc[-1]\n",
    "\n",
    "future_short_ma_values = []  # Store future Short_MA values\n",
    "future_long_ma_values = []  # Store future Long_MA values\n",
    "future_rsi_values = []  # Store future RSI values\n",
    "future_trend_values = []  # Store future Next_Day_Trend values\n",
    "\n",
    "for i in range(future_days):\n",
    "    # Example: Suppose you're predicting the next day's trend based on today's values\n",
    "    # Replace this with your own forecasting logic\n",
    "    future_short_ma_values.append(last_short_ma + 1)  # Placeholder logic\n",
    "    future_long_ma_values.append(last_long_ma + 1)  # Placeholder logic\n",
    "    future_rsi_values.append(last_rsi + 1)  # Placeholder logic\n",
    "    future_trend_values.append(last_trend + 1)  # Placeholder logic\n",
    "    \n",
    "    # Update the last known values for the next iteration\n",
    "    last_short_ma = future_short_ma_values[-1]\n",
    "    last_long_ma = future_long_ma_values[-1]\n",
    "    last_rsi = future_rsi_values[-1]\n",
    "    last_trend = future_trend_values[-1]\n",
    "\n",
    "# Construct a DataFrame for future features\n",
    "future_features = pd.DataFrame({\n",
    "    'Short_MA': future_short_ma_values,\n",
    "    'Long_MA': future_long_ma_values,\n",
    "    'RSI': future_rsi_values,\n",
    "    'Next_Day_Trend': future_trend_values\n",
    "})\n",
    "\n",
    "# Predict open prices for the next 'n' days using the selected model (e.g., Linear Regression)\n",
    "predicted_open_prices = model_lr.predict(future_features)\n",
    "print(\"Predicted future open prices:\")\n",
    "print(predicted_open_prices)"
   ]
  },
  {
   "cell_type": "code",
   "execution_count": 64,
   "id": "a808658d-8a43-47a3-be0d-04089388dadd",
   "metadata": {},
   "outputs": [
    {
     "data": {
      "text/plain": [
       "0.9577966825279948"
      ]
     },
     "execution_count": 64,
     "metadata": {},
     "output_type": "execute_result"
    }
   ],
   "source": [
    "\n",
    "model_lr.score(test_data[features], test_data[target])"
   ]
  },
  {
   "cell_type": "code",
   "execution_count": 65,
   "id": "d5cfe8ef-3fb0-4e84-a46c-77796a37a8a8",
   "metadata": {},
   "outputs": [
    {
     "data": {
      "text/plain": [
       "0.956798215137612"
      ]
     },
     "execution_count": 65,
     "metadata": {},
     "output_type": "execute_result"
    }
   ],
   "source": [
    "model_svr.score(test_data[features], test_data[target])"
   ]
  },
  {
   "cell_type": "code",
   "execution_count": 66,
   "id": "24693df0-336a-421c-867f-3ed0beaf8170",
   "metadata": {},
   "outputs": [
    {
     "data": {
      "text/plain": [
       "0.9050494105464935"
      ]
     },
     "execution_count": 66,
     "metadata": {},
     "output_type": "execute_result"
    }
   ],
   "source": [
    "model_rf.score(test_data[features], test_data[target])"
   ]
  },
  {
   "cell_type": "code",
   "execution_count": 67,
   "id": "538d59a4-4b5c-4fea-986f-ebf7bba002e8",
   "metadata": {},
   "outputs": [
    {
     "data": {
      "text/plain": [
       "0.9341484250677458"
      ]
     },
     "execution_count": 67,
     "metadata": {},
     "output_type": "execute_result"
    }
   ],
   "source": [
    "model_gb.score(test_data[features], test_data[target])"
   ]
  },
  {
   "cell_type": "code",
   "execution_count": null,
   "id": "9d2f27ac-0080-4719-a8c0-3d3fc431abe9",
   "metadata": {},
   "outputs": [],
   "source": []
  }
 ],
 "metadata": {
  "kernelspec": {
   "display_name": "Python 3 (ipykernel)",
   "language": "python",
   "name": "python3"
  },
  "language_info": {
   "codemirror_mode": {
    "name": "ipython",
    "version": 3
   },
   "file_extension": ".py",
   "mimetype": "text/x-python",
   "name": "python",
   "nbconvert_exporter": "python",
   "pygments_lexer": "ipython3",
   "version": "3.8.0rc1"
  }
 },
 "nbformat": 4,
 "nbformat_minor": 5
}
